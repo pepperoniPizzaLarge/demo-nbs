{
 "cells": [
  {
   "cell_type": "code",
   "execution_count": 1,
   "id": "8daa7ff2",
   "metadata": {},
   "outputs": [],
   "source": [
    "import numpy as np\n",
    "import pandas as pd\n",
    "import xgboost as xgb\n",
    "from sklearn.model_selection import cross_val_score\n",
    "import matplotlib.pyplot as plt\n",
    "from sklearn.metrics import roc_auc_score\n",
    "from sklearn.metrics import matthews_corrcoef\n",
    "from sklearn.metrics import f1_score\n",
    "from sklearn.metrics import confusion_matrix, ConfusionMatrixDisplay"
   ]
  },
  {
   "cell_type": "code",
   "execution_count": 2,
   "id": "bf4f5ca0",
   "metadata": {},
   "outputs": [],
   "source": [
    "land_data = pd.read_csv('Train.csv')"
   ]
  },
  {
   "cell_type": "code",
   "execution_count": 3,
   "id": "ec6d73ce",
   "metadata": {},
   "outputs": [
    {
     "data": {
      "text/plain": [
       "(False, False)"
      ]
     },
     "execution_count": 3,
     "metadata": {},
     "output_type": "execute_result"
    }
   ],
   "source": [
    "# Check missing values, duplicates\n",
    "land_data.isnull().sum().any(), land_data.duplicated().any()"
   ]
  },
  {
   "cell_type": "code",
   "execution_count": 4,
   "id": "33b1cf80",
   "metadata": {},
   "outputs": [
    {
     "data": {
      "text/html": [
       "<div>\n",
       "<style scoped>\n",
       "    .dataframe tbody tr th:only-of-type {\n",
       "        vertical-align: middle;\n",
       "    }\n",
       "\n",
       "    .dataframe tbody tr th {\n",
       "        vertical-align: top;\n",
       "    }\n",
       "\n",
       "    .dataframe thead th {\n",
       "        text-align: right;\n",
       "    }\n",
       "</style>\n",
       "<table border=\"1\" class=\"dataframe\">\n",
       "  <thead>\n",
       "    <tr style=\"text-align: right;\">\n",
       "      <th></th>\n",
       "      <th>Sample_ID</th>\n",
       "      <th>1_elevation</th>\n",
       "      <th>2_elevation</th>\n",
       "      <th>3_elevation</th>\n",
       "      <th>4_elevation</th>\n",
       "      <th>5_elevation</th>\n",
       "      <th>6_elevation</th>\n",
       "      <th>7_elevation</th>\n",
       "      <th>8_elevation</th>\n",
       "      <th>9_elevation</th>\n",
       "      <th>...</th>\n",
       "      <th>17_sdoif</th>\n",
       "      <th>18_sdoif</th>\n",
       "      <th>19_sdoif</th>\n",
       "      <th>20_sdoif</th>\n",
       "      <th>21_sdoif</th>\n",
       "      <th>22_sdoif</th>\n",
       "      <th>23_sdoif</th>\n",
       "      <th>24_sdoif</th>\n",
       "      <th>25_sdoif</th>\n",
       "      <th>Label</th>\n",
       "    </tr>\n",
       "  </thead>\n",
       "  <tbody>\n",
       "    <tr>\n",
       "      <th>0</th>\n",
       "      <td>1</td>\n",
       "      <td>130</td>\n",
       "      <td>129</td>\n",
       "      <td>127</td>\n",
       "      <td>126</td>\n",
       "      <td>123</td>\n",
       "      <td>126</td>\n",
       "      <td>125</td>\n",
       "      <td>124</td>\n",
       "      <td>122</td>\n",
       "      <td>...</td>\n",
       "      <td>1.281779</td>\n",
       "      <td>1.281743</td>\n",
       "      <td>1.281720</td>\n",
       "      <td>1.281684</td>\n",
       "      <td>1.281811</td>\n",
       "      <td>1.281788</td>\n",
       "      <td>1.281752</td>\n",
       "      <td>1.281729</td>\n",
       "      <td>1.281693</td>\n",
       "      <td>0</td>\n",
       "    </tr>\n",
       "    <tr>\n",
       "      <th>1</th>\n",
       "      <td>2</td>\n",
       "      <td>161</td>\n",
       "      <td>158</td>\n",
       "      <td>155</td>\n",
       "      <td>153</td>\n",
       "      <td>151</td>\n",
       "      <td>162</td>\n",
       "      <td>159</td>\n",
       "      <td>155</td>\n",
       "      <td>153</td>\n",
       "      <td>...</td>\n",
       "      <td>1.359639</td>\n",
       "      <td>1.359608</td>\n",
       "      <td>1.359587</td>\n",
       "      <td>1.359556</td>\n",
       "      <td>1.359683</td>\n",
       "      <td>1.359662</td>\n",
       "      <td>1.359631</td>\n",
       "      <td>1.359610</td>\n",
       "      <td>1.359579</td>\n",
       "      <td>1</td>\n",
       "    </tr>\n",
       "    <tr>\n",
       "      <th>2</th>\n",
       "      <td>3</td>\n",
       "      <td>149</td>\n",
       "      <td>151</td>\n",
       "      <td>154</td>\n",
       "      <td>156</td>\n",
       "      <td>158</td>\n",
       "      <td>154</td>\n",
       "      <td>157</td>\n",
       "      <td>158</td>\n",
       "      <td>160</td>\n",
       "      <td>...</td>\n",
       "      <td>1.365005</td>\n",
       "      <td>1.365025</td>\n",
       "      <td>1.365055</td>\n",
       "      <td>1.365075</td>\n",
       "      <td>1.364937</td>\n",
       "      <td>1.364967</td>\n",
       "      <td>1.364988</td>\n",
       "      <td>1.365018</td>\n",
       "      <td>1.365038</td>\n",
       "      <td>0</td>\n",
       "    </tr>\n",
       "    <tr>\n",
       "      <th>3</th>\n",
       "      <td>4</td>\n",
       "      <td>80</td>\n",
       "      <td>78</td>\n",
       "      <td>77</td>\n",
       "      <td>75</td>\n",
       "      <td>73</td>\n",
       "      <td>80</td>\n",
       "      <td>78</td>\n",
       "      <td>77</td>\n",
       "      <td>75</td>\n",
       "      <td>...</td>\n",
       "      <td>1.100708</td>\n",
       "      <td>1.100738</td>\n",
       "      <td>1.100759</td>\n",
       "      <td>1.100789</td>\n",
       "      <td>1.100630</td>\n",
       "      <td>1.100650</td>\n",
       "      <td>1.100680</td>\n",
       "      <td>1.100700</td>\n",
       "      <td>1.100731</td>\n",
       "      <td>0</td>\n",
       "    </tr>\n",
       "    <tr>\n",
       "      <th>4</th>\n",
       "      <td>5</td>\n",
       "      <td>117</td>\n",
       "      <td>115</td>\n",
       "      <td>114</td>\n",
       "      <td>112</td>\n",
       "      <td>110</td>\n",
       "      <td>115</td>\n",
       "      <td>113</td>\n",
       "      <td>111</td>\n",
       "      <td>110</td>\n",
       "      <td>...</td>\n",
       "      <td>1.284180</td>\n",
       "      <td>1.284130</td>\n",
       "      <td>1.284056</td>\n",
       "      <td>1.284006</td>\n",
       "      <td>1.284125</td>\n",
       "      <td>1.284050</td>\n",
       "      <td>1.284001</td>\n",
       "      <td>1.283926</td>\n",
       "      <td>1.283876</td>\n",
       "      <td>0</td>\n",
       "    </tr>\n",
       "  </tbody>\n",
       "</table>\n",
       "<p>5 rows × 227 columns</p>\n",
       "</div>"
      ],
      "text/plain": [
       "   Sample_ID  1_elevation  2_elevation  3_elevation  4_elevation  5_elevation  \\\n",
       "0          1          130          129          127          126          123   \n",
       "1          2          161          158          155          153          151   \n",
       "2          3          149          151          154          156          158   \n",
       "3          4           80           78           77           75           73   \n",
       "4          5          117          115          114          112          110   \n",
       "\n",
       "   6_elevation  7_elevation  8_elevation  9_elevation  ...  17_sdoif  \\\n",
       "0          126          125          124          122  ...  1.281779   \n",
       "1          162          159          155          153  ...  1.359639   \n",
       "2          154          157          158          160  ...  1.365005   \n",
       "3           80           78           77           75  ...  1.100708   \n",
       "4          115          113          111          110  ...  1.284180   \n",
       "\n",
       "   18_sdoif  19_sdoif  20_sdoif  21_sdoif  22_sdoif  23_sdoif  24_sdoif  \\\n",
       "0  1.281743  1.281720  1.281684  1.281811  1.281788  1.281752  1.281729   \n",
       "1  1.359608  1.359587  1.359556  1.359683  1.359662  1.359631  1.359610   \n",
       "2  1.365025  1.365055  1.365075  1.364937  1.364967  1.364988  1.365018   \n",
       "3  1.100738  1.100759  1.100789  1.100630  1.100650  1.100680  1.100700   \n",
       "4  1.284130  1.284056  1.284006  1.284125  1.284050  1.284001  1.283926   \n",
       "\n",
       "   25_sdoif  Label  \n",
       "0  1.281693      0  \n",
       "1  1.359579      1  \n",
       "2  1.365038      0  \n",
       "3  1.100731      0  \n",
       "4  1.283876      0  \n",
       "\n",
       "[5 rows x 227 columns]"
      ]
     },
     "execution_count": 4,
     "metadata": {},
     "output_type": "execute_result"
    }
   ],
   "source": [
    "land_data.head()"
   ]
  },
  {
   "cell_type": "code",
   "execution_count": 5,
   "id": "15af4130",
   "metadata": {},
   "outputs": [
    {
     "data": {
      "text/plain": [
       "(10864, 227)"
      ]
     },
     "execution_count": 5,
     "metadata": {},
     "output_type": "execute_result"
    }
   ],
   "source": [
    "land_data.shape"
   ]
  },
  {
   "cell_type": "code",
   "execution_count": 6,
   "id": "8d515509",
   "metadata": {},
   "outputs": [],
   "source": [
    "features = ['elevation', 'slope', 'aspect', 'placurv', 'procurv', 'lsfactor', 'twi', 'sdoif']  # features of every location\n",
    "slide_location=['13']  # landslides happens at location 13\n",
    "neighbors = ['7','8','9','12','14','17','18','19']\n",
    "\n",
    "for ft in features:\n",
    "    for i in neighbors:\n",
    "        land_data[f'{ft}_{i}_diff'] = land_data[f'13_{ft}'] - land_data[f'{i}_{ft}']      \n",
    "\n",
    "# feature engineering \n",
    "# mean and std of neighbor cells\n",
    "for ft in features:\n",
    "  cols = [x for x in land_data.columns if x.endswith(ft) and any(j in x for j in neighbors)]\n",
    "  land_data[f'neighbors_{i}_mean'] = land_data[cols].mean(axis=1)\n",
    "  land_data[f'neighbors_{i}_std'] = land_data[cols].std(axis=1)\n",
    "\n",
    "# cross features - mean and std of each row\n",
    "for ft in features:\n",
    "    cols = [x for x in land_data.columns if x.endswith(ft)]\n",
    "    land_data[f'{ft}_mean'] = land_data[cols].mean(axis=1)\n",
    "    land_data[f'{ft}_std'] = land_data[cols].std(axis=1)"
   ]
  },
  {
   "cell_type": "code",
   "execution_count": 7,
   "id": "a2960eab",
   "metadata": {},
   "outputs": [],
   "source": [
    "land_data['Label2'] = land_data['Label']\n",
    "land_data.drop(['Label'], axis=1, inplace = True)"
   ]
  },
  {
   "cell_type": "code",
   "execution_count": 8,
   "id": "235fa003",
   "metadata": {},
   "outputs": [
    {
     "data": {
      "text/plain": [
       "(10864, 309)"
      ]
     },
     "execution_count": 8,
     "metadata": {},
     "output_type": "execute_result"
    }
   ],
   "source": [
    "land_data.shape"
   ]
  },
  {
   "cell_type": "code",
   "execution_count": 9,
   "id": "536d2c9a",
   "metadata": {},
   "outputs": [],
   "source": [
    "# xgb works with categorical vars\n",
    "for i in ['geology']:\n",
    "     cols = [x for x in land_data.columns if x.endswith(i)]\n",
    "for col in cols:\n",
    "    land_data[col]=land_data[col].astype('category')\n",
    "# land_data['1_geology']"
   ]
  },
  {
   "cell_type": "code",
   "execution_count": 10,
   "id": "f9809f84",
   "metadata": {},
   "outputs": [],
   "source": [
    "# splitting data\n",
    "from sklearn.model_selection import train_test_split\n",
    "X = land_data.iloc[:, 1:307].values\n",
    "y = land_data.iloc[:, 308].values\n",
    "X_train, X_test, y_train, y_test = train_test_split(X, y, test_size = 0.10, stratify = y, random_state = 2024)"
   ]
  },
  {
   "cell_type": "code",
   "execution_count": 11,
   "id": "f3fb8871",
   "metadata": {},
   "outputs": [
    {
     "data": {
      "text/plain": [
       "((2716, 306), (8148, 306))"
      ]
     },
     "execution_count": 11,
     "metadata": {},
     "output_type": "execute_result"
    }
   ],
   "source": [
    "X[y==1].shape, X[y==0].shape # class imbalance"
   ]
  },
  {
   "cell_type": "code",
   "execution_count": 12,
   "id": "a4ebb2bc",
   "metadata": {},
   "outputs": [],
   "source": [
    "# upsample to battle class imba\n",
    "from sklearn.utils import resample\n",
    "X_upsampled, y_upsampled = resample(\n",
    "    X_train[y_train==1],\n",
    "    y_train[y_train==1], \n",
    "    replace = True, \n",
    "    n_samples = X_train[y_train==0].shape[0], random_state = 2024)"
   ]
  },
  {
   "cell_type": "code",
   "execution_count": 13,
   "id": "925a3dfb",
   "metadata": {},
   "outputs": [],
   "source": [
    "# from sklearn.model_selection import StratifiedKfold\n",
    "# kfold = StratifiedKFold(n_splits = 10).split(X_train, y_train)\n",
    "# scores = cross_val_score(estimator = XGB, X = X_train, y = y_train, cv = 10, n_jobs = -1)"
   ]
  },
  {
   "cell_type": "code",
   "execution_count": 14,
   "id": "7246cdbb",
   "metadata": {},
   "outputs": [],
   "source": [
    "X_bal = np.vstack((X_train[y_train == 0], X_upsampled))\n",
    "y_bal = np.hstack((y_train[y_train == 0], y_upsampled))"
   ]
  },
  {
   "cell_type": "code",
   "execution_count": 15,
   "id": "8fa10880",
   "metadata": {},
   "outputs": [
    {
     "data": {
      "text/plain": [
       "7333"
      ]
     },
     "execution_count": 15,
     "metadata": {},
     "output_type": "execute_result"
    }
   ],
   "source": [
    "X_upsampled.shape[0]"
   ]
  },
  {
   "cell_type": "code",
   "execution_count": 16,
   "id": "6b40a678",
   "metadata": {},
   "outputs": [
    {
     "data": {
      "text/plain": [
       "(7333, 7333)"
      ]
     },
     "execution_count": 16,
     "metadata": {},
     "output_type": "execute_result"
    }
   ],
   "source": [
    "X_bal[y_bal==1].shape[0], X_bal[y_bal==0].shape[0]"
   ]
  },
  {
   "cell_type": "code",
   "execution_count": 17,
   "id": "de405845",
   "metadata": {},
   "outputs": [],
   "source": [
    "model = xgb.XGBClassifier(n_estimators=1000, \n",
    "                          learning_rate=0.01, \n",
    "                          max_depth=8,\n",
    "                          enable_categorical=True, colsample_bytree=0.5, subsample=0.5, gamma=7, min_child_weight=10,\n",
    "                          random_state=2024, \n",
    "                          use_label_encoder=False)\n",
    "\n",
    "scores = cross_val_score(estimator=model, X=X_bal, y=y_bal, cv=10, n_jobs=-1)"
   ]
  },
  {
   "cell_type": "code",
   "execution_count": 18,
   "id": "0110d7c0",
   "metadata": {},
   "outputs": [
    {
     "name": "stdout",
     "output_type": "stream",
     "text": [
      "0.8961526479316216\n"
     ]
    }
   ],
   "source": [
    "print(np.mean(scores))"
   ]
  },
  {
   "cell_type": "code",
   "execution_count": 19,
   "id": "f0cc648c",
   "metadata": {},
   "outputs": [
    {
     "name": "stdout",
     "output_type": "stream",
     "text": [
      "[0.89434219 0.89502386 0.89911384 0.9072938  0.9127471  0.89366053\n",
      " 0.89631651 0.88472033 0.88949523 0.8888131 ]\n"
     ]
    }
   ],
   "source": [
    "print(scores)"
   ]
  },
  {
   "cell_type": "code",
   "execution_count": 20,
   "id": "a1688f98",
   "metadata": {},
   "outputs": [
    {
     "name": "stdout",
     "output_type": "stream",
     "text": [
      "XGBoost train/test accuracies 0.941/0.862\n"
     ]
    }
   ],
   "source": [
    "from sklearn.metrics import accuracy_score\n",
    "gbm = model.fit(X_bal, y_bal)\n",
    "y_train_pred = gbm.predict(X_bal)\n",
    "y_test_pred = gbm.predict(X_test)\n",
    "gbm_train = accuracy_score(y_bal, y_train_pred)\n",
    "gbm_test = accuracy_score(y_test, y_test_pred)\n",
    "print(f'XGBoost train/test accuracies {gbm_train:.3f}/{gbm_test:.3f}')"
   ]
  },
  {
   "cell_type": "code",
   "execution_count": 21,
   "id": "5b94bc70",
   "metadata": {},
   "outputs": [],
   "source": [
    "# gbm.feature_importances_"
   ]
  },
  {
   "cell_type": "code",
   "execution_count": 22,
   "id": "cdf6ac26",
   "metadata": {},
   "outputs": [
    {
     "name": "stdout",
     "output_type": "stream",
     "text": [
      "[[722  93]\n",
      " [ 57 215]]\n"
     ]
    },
    {
     "data": {
      "text/plain": [
       "<sklearn.metrics._plot.confusion_matrix.ConfusionMatrixDisplay at 0x1ec47190190>"
      ]
     },
     "execution_count": 22,
     "metadata": {},
     "output_type": "execute_result"
    },
    {
     "data": {
      "image/png": "[encoded data removed]",
      "text/plain": [
       "<Figure size 640x480 with 2 Axes>"
      ]
     },
     "metadata": {},
     "output_type": "display_data"
    }
   ],
   "source": [
    "conf_mat = confusion_matrix(y_true = y_test, y_pred = y_test_pred)\n",
    "print(conf_mat)\n",
    "disp = ConfusionMatrixDisplay(conf_mat)\n",
    "disp.plot()"
   ]
  },
  {
   "cell_type": "code",
   "execution_count": 23,
   "id": "c8f31b0b",
   "metadata": {},
   "outputs": [
    {
     "data": {
      "text/plain": [
       "0.8381653735113677"
      ]
     },
     "execution_count": 23,
     "metadata": {},
     "output_type": "execute_result"
    }
   ],
   "source": [
    "auc_score = roc_auc_score(y_true=y_test, y_score = y_test_pred)\n",
    "auc_score"
   ]
  },
  {
   "cell_type": "code",
   "execution_count": 24,
   "id": "944ed6a9",
   "metadata": {},
   "outputs": [
    {
     "data": {
      "text/plain": [
       "0.650097208001111"
      ]
     },
     "execution_count": 24,
     "metadata": {},
     "output_type": "execute_result"
    }
   ],
   "source": [
    "MCC = matthews_corrcoef(y_true = y_test, y_pred = y_test_pred)\n",
    "MCC"
   ]
  },
  {
   "cell_type": "code",
   "execution_count": 25,
   "id": "4fd2c269",
   "metadata": {},
   "outputs": [
    {
     "data": {
      "text/plain": [
       "0.7413793103448276"
      ]
     },
     "execution_count": 25,
     "metadata": {},
     "output_type": "execute_result"
    }
   ],
   "source": [
    "F1 = f1_score(y_true = y_test, y_pred = y_test_pred)\n",
    "F1"
   ]
  }
 ],
 "metadata": {
  "kernelspec": {
   "display_name": "Python 3 (ipykernel)",
   "language": "python",
   "name": "python3"
  },
  "language_info": {
   "codemirror_mode": {
    "name": "ipython",
    "version": 3
   },
   "file_extension": ".py",
   "mimetype": "text/x-python",
   "name": "python",
   "nbconvert_exporter": "python",
   "pygments_lexer": "ipython3",
   "version": "3.11.11"
  }
 },
 "nbformat": 4,
 "nbformat_minor": 5
}
