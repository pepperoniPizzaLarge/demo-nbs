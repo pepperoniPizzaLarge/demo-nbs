{
 "cells": [
  {
   "cell_type": "markdown",
   "metadata": {
    "colab_type": "text",
    "id": "view-in-github"
   },
   "source": [
    "<a href=\"https://colab.research.google.com/github/JONNY-ME/Landslide-Prevention-and-Innovation-challenge/blob/main/Landslide_prediction_V1.ipynb\" target=\"_parent\"><img src=\"https://colab.research.google.com/assets/colab-badge.svg\" alt=\"Open In Colab\"/></a>"
   ]
  },
  {
   "cell_type": "markdown",
   "metadata": {
    "id": "Sl-lBcUwJZX2"
   },
   "source": [
    "<a name = \"Libraries\"></a>\n",
    "## 1. Import relevant libraries"
   ]
  },
  {
   "cell_type": "code",
   "execution_count": null,
   "metadata": {
    "colab": {
     "base_uri": "https://localhost:8080/"
    },
    "id": "Mi_iovo60HYO",
    "outputId": "a659867b-a4e4-4657-80ee-ae9ec9c09770"
   },
   "outputs": [],
   "source": [
    "from google.colab import drive\n",
    "drive.mount('/content/drive')\n",
    "!pip install catboost --quiet"
   ]
  },
  {
   "cell_type": "code",
   "execution_count": null,
   "metadata": {
    "id": "AGkN_YDYrXeS"
   },
   "outputs": [],
   "source": [
    "# Import libraries\n",
    "import pandas as pd\n",
    "import numpy as np\n",
    "\n",
    "pd.set_option('display.max_columns', None)\n",
    "import warnings\n",
    "warnings.filterwarnings('ignore')"
   ]
  },
  {
   "cell_type": "markdown",
   "metadata": {
    "id": "31jrsc4hJdw1"
   },
   "source": [
    "<a name = \"Load\"></a>\n",
    "## 2. Load files"
   ]
  },
  {
   "cell_type": "code",
   "execution_count": null,
   "metadata": {
    "id": "pK406xHWrk3r"
   },
   "outputs": [],
   "source": [
    "# Read files to pandas dataframes\n",
    "path = '/content/drive/MyDrive/landslide-prevention-and-innovation-challenge/'\n",
    "Train = pd.read_csv(path+'Train.csv')\n",
    "Test = pd.read_csv(path+'Test.csv')\n",
    "sample_submission = pd.read_csv(path+'SampleSubmission.csv')"
   ]
  },
  {
   "cell_type": "markdown",
   "metadata": {
    "id": "yv67GA1KJgiA"
   },
   "source": [
    "<a name = \"Preview\"></a>\n",
    "## 3. Preview files"
   ]
  },
  {
   "cell_type": "code",
   "execution_count": null,
   "metadata": {
    "colab": {
     "base_uri": "https://localhost:8080/"
    },
    "id": "qocNkXAy8Tvd",
    "outputId": "13eabb3e-5c0c-45e9-afae-3e8fb608815a"
   },
   "outputs": [],
   "source": [
    "print(Train.shape, Test.shape)"
   ]
  },
  {
   "cell_type": "code",
   "execution_count": null,
   "metadata": {
    "colab": {
     "base_uri": "https://localhost:8080/",
     "height": 288
    },
    "id": "cEauiJzY8Tve",
    "outputId": "42c6f6fa-ebd4-4cc3-b797-8c567286c015"
   },
   "outputs": [],
   "source": [
    "data = pd.concat([Train.assign(train=1), Test.assign(train=0)])\n",
    "print(data.shape)\n",
    "data.head(5)"
   ]
  },
  {
   "cell_type": "code",
   "execution_count": null,
   "metadata": {
    "colab": {
     "base_uri": "https://localhost:8080/",
     "height": 505
    },
    "id": "Cbrn7oUtK2_v",
    "outputId": "be7c91a0-81f0-4c4a-b061-da87de6cf92d"
   },
   "outputs": [],
   "source": [
    "base_fts = ['elevation', 'lsfactor', 'placurv', 'procurv', 'sdoif', 'slope', 'twi', 'aspect']\n",
    "\n",
    "for i in base_fts:\n",
    "  cols = [x for x in data.columns if x.endswith(i)]\n",
    "  data[f'{i}_mean'] = data[cols].mean(axis=1)\n",
    "  data[f'{i}_std'] = data[cols].std(axis=1)\n",
    "  data[f'{i}_max'] = data[cols].max(axis=1)\n",
    "  data[f'{i}_min'] = data[cols].min(axis=1)\n",
    "  data[f'{i}_range'] = data[f'{i}_max'] - data[f'{i}_min']\n",
    "#   data[f'{i}_skew'] = data[cols].skew(axis=1)\n",
    "  data[f'{i}_sum'] = data[cols].sum(axis=1)\n",
    "#   data[f'{i}_sem'] = data[cols].sem(axis=1)\n",
    "#   data[f'{i}_kurtosis'] = data[cols].kurtosis(axis=1)\n",
    "#   data[f'{i}_quantile'] = data[cols].quantile(axis=1)\n",
    "\n",
    "for i in ['geology']:\n",
    "  cols = [x for x in data.columns if x.endswith(i)]\n",
    "  data[f'{i}_mode'] = data[cols].mode(axis=1)[0]\n",
    "  data[f'{i}_count'] = data[cols].count(axis=1)\n",
    "  data[f'{i}_mean'] = data[cols].mean(axis=1)\n",
    "\n",
    "print(data.shape)\n",
    "data"
   ]
  },
  {
   "cell_type": "code",
   "execution_count": null,
   "metadata": {
    "colab": {
     "base_uri": "https://localhost:8080/"
    },
    "id": "h4F2FNKt8Tvl",
    "outputId": "392788b8-b143-40c0-8c6b-3c1ab99aada7"
   },
   "outputs": [],
   "source": [
    "neighbours = [\"12\", \"18\", \"14\", \"8\", ]\n",
    "\n",
    "for ft in base_fts:\n",
    "    for i in neighbours:\n",
    "        data[f\"{ft}_{i}_diff\"] = data[f\"13_{ft}\"] - data[f\"{i}_{ft}\"]  \n",
    "\n",
    "for i in base_fts:\n",
    "  cols = [x for x in data.columns if x.endswith(i) and any(j in x for j in neighbours)]\n",
    "  data[f'neighbours_{i}_mean'] = data[cols].mean(axis=1)\n",
    "  data[f'neighbours_{i}_std'] = data[cols].std(axis=1)\n",
    "  data[f'neighbours_{i}_max'] = data[cols].max(axis=1)\n",
    "  data[f'neighbours_{i}_min'] = data[cols].min(axis=1)\n",
    "#   data[f'neighbours_{i}_range'] = data[f'neighbours_{i}_max'] - data[f'neighbours_{i}_min']\n",
    "#   data[f'neighbours_{i}_skew'] = data[cols].skew(axis=1)\n",
    "  data[f'neighbours_{i}_sum'] = data[cols].sum(axis=1)\n",
    "#   data[f'neighbours_{i}_sem'] = data[cols].sem(axis=1)\n",
    "#   data[f'neighbours_{i}_kurtosis'] = data[cols].kurtosis(axis=1)\n",
    "#   data[f'neighbours_{i}_quantile'] = data[cols].quantile(axis=1)\n",
    "\n",
    "for i in ['geology']:\n",
    "  cols = [x for x in data.columns if x.endswith(i) and any(j in x for j in neighbours)]\n",
    "  data[f'neighbours_{i}_mode'] = data[cols].mode(axis=1)[0]\n",
    "  data[f'neighbours_{i}_count'] = data[cols].count(axis=1)\n",
    "  data[f'neighbours_{i}_mean'] = data[cols].mean(axis=1)\n",
    "\n",
    "print(data.shape)"
   ]
  },
  {
   "cell_type": "code",
   "execution_count": null,
   "metadata": {
    "colab": {
     "base_uri": "https://localhost:8080/"
    },
    "id": "SFQ0qNhu8Tvm",
    "outputId": "c4851dd7-6c11-4351-c07c-796e0835af7e"
   },
   "outputs": [],
   "source": [
    "train_df = data[data.train == 1].drop(columns=['train'])\n",
    "test_df = data[data.train == 0].drop(columns=['train', 'Label'])\n",
    "\n",
    "train_df.shape, test_df.shape"
   ]
  },
  {
   "cell_type": "code",
   "execution_count": null,
   "metadata": {
    "id": "nymXTUpEu2ru"
   },
   "outputs": [],
   "source": [
    "main_cols = test_df.columns.difference([\n",
    "    '17_elevation', '23_elevation', '8_aspect', '17_aspect',\n",
    "       '21_aspect', '4_procurv', '4_lsfactor', '18_lsfactor',\n",
    "       '19_lsfactor', '21_twi', '2_geology', '5_geology', '7_geology',\n",
    "       '12_geology', '13_geology', '14_geology', '19_geology',\n",
    "       '23_geology', '24_geology', '8_sdoif', '10_sdoif', '12_sdoif',\n",
    "       '15_sdoif', '17_sdoif', '18_sdoif', '24_sdoif', 'elevation_min',\n",
    "       'sdoif_sum', 'slope_sum', 'aspect_mean', 'geology_count',\n",
    "       'geology_12_diff', 'geology_18_diff', 'geology_14_diff',\n",
    "       'geology_8_diff', 'neighbours_lsfactor_mean',\n",
    "       'neighbours_lsfactor_sum', 'neighbours_placurv_max',\n",
    "       'neighbours_placurv_range', 'neighbours_procurv_quantile',\n",
    "       'neighbours_twi_mean', 'neighbours_twi_quantile',\n",
    "       'neighbours_aspect_mean', 'neighbours_aspect_max',\n",
    "       'neighbours_aspect_quantile', 'neighbours_geology_count',\n",
    "       '7_geology', '11_geology', '15_geology', '20_geology',\n",
    "       'placurv_sum', 'sdoif_mean', 'sdoif_sum', 'sdoif_quantile',\n",
    "       'slope_sum', 'aspect_sum',\n",
    "       'neighbours_elevation_quantile',\n",
    "       'neighbours_sdoif_mean', 'neighbours_sdoif_max',\n",
    "       'neighbours_sdoif_sum', 'neighbours_sdoif_quantile',\n",
    "])\n",
    "X = train_df[main_cols]\n",
    "y = train_df.Label\n",
    "test = test_df[main_cols]"
   ]
  },
  {
   "cell_type": "markdown",
   "metadata": {
    "id": "GbN3sDZxJHVb"
   },
   "source": [
    "<a name = \"Model\"></a>\n",
    "## 9. Model training"
   ]
  },
  {
   "cell_type": "code",
   "execution_count": null,
   "metadata": {
    "id": "hvDW6XR68Tvo"
   },
   "outputs": [],
   "source": [
    "import time \n",
    "from sklearn.metrics import f1_score\n",
    "\n",
    "def squared_mean(results):\n",
    "  mean_results = np.ones(results[0].shape)\n",
    "  ln = len(results)\n",
    "  for i in range(ln):\n",
    "    mean_results *= results[i]\n",
    "\n",
    "  return mean_results ** (1/ln)\n",
    "\n",
    "class My_model:\n",
    "    def __init__(self, models):\n",
    "        self.models = models\n",
    "\n",
    "    def fit_eval_pred(self, X, y, eval_set, val, test):\n",
    "        results_eval = []\n",
    "        results_test = []\n",
    "        for i, model in enumerate(self.models):\n",
    "            print(f\"[Training]............................... Model_{i+1}\")\n",
    "            st = time.time()\n",
    "            try:\n",
    "                model.fit(X, y, eval_set=eval_set, verbose=False)\n",
    "            except Exception as e:\n",
    "                model.fit(X, y)\n",
    "            print(f\"[Prediction]............................. Model_{i+1}\")\n",
    "            p = model.predict_proba(val)\n",
    "            print(f\"Log loss = {f1_score(eval_set[0][1], np.argmax(p, axis=1))}\", end=\" \"*6)\n",
    "            results_eval.append(p)\n",
    "            results_test.append(model.predict_proba(test))\n",
    "            print(f\"Time {time.time() - st :.2f}sec\")\n",
    "\n",
    "        results_eval = squared_mean(results_eval)\n",
    "        results_test = squared_mean(results_test)\n",
    "\n",
    "        return results_eval, results_test"
   ]
  },
  {
   "cell_type": "code",
   "execution_count": null,
   "metadata": {
    "id": "sCT5fdtT8Tvp"
   },
   "outputs": [],
   "source": [
    "import time\n",
    "from sklearn.model_selection import StratifiedKFold\n",
    "from catboost import CatBoostClassifier\n",
    "from lightgbm import LGBMClassifier\n",
    "import imblearn.over_sampling as ovs\n",
    "\n",
    "\n",
    "seed = 21\n",
    "\n",
    "def get_models(seed=21):\n",
    "\n",
    "    cat_params = {\"iterations\":10000, \"learning_rate\":0.1, \"verbose\":200, \"random_state\":seed,\n",
    "            'use_best_model':True, 'early_stopping_rounds':200, }\n",
    "\n",
    "    lgb_params = {'n_estimators':10000, 'random_state':seed, 'early_stopping_round':100, 'verbose':-1, \n",
    "            'learning_rate': 0.06918642648131483, 'num_leaves': 20, 'max_depth': 11,\n",
    "            'min_data_in_leaf': 200, 'max_bin': 200, 'lambda_l1': 10, 'lambda_l2': 20,\n",
    "            'min_gain_to_split': 0.00011324914950008869, 'bagging_fraction': 0.6000000000000001,\n",
    "            'bagging_freq': 1, 'feature_fraction': 0.8\n",
    "            }\n",
    "\n",
    "    return  [\n",
    "            CatBoostClassifier(**cat_params),   \n",
    "            LGBMClassifier(**lgb_params),\n",
    "    ]"
   ]
  },
  {
   "cell_type": "code",
   "execution_count": null,
   "metadata": {
    "colab": {
     "base_uri": "https://localhost:8080/"
    },
    "id": "NI2lODTR1Pvw",
    "outputId": "61ee5a66-6643-4ff8-bd06-f0f177b07df3"
   },
   "outputs": [],
   "source": [
    "results = []\n",
    "ns = 10\n",
    "tot = 0\n",
    "\n",
    "skf = StratifiedKFold(n_splits=ns, random_state=seed, shuffle=True)\n",
    "for fold, (train_index, test_index) in enumerate(skf.split(X, y)):\n",
    "    print(100*\"-\", f\"\\nFold-{fold+1}\")\n",
    "\n",
    "    X_train, X_test = X.loc[train_index], X.loc[test_index]\n",
    "    y_train, y_test = y.loc[train_index], y.loc[test_index]\n",
    "    \n",
    "    sampler = ovs.SMOTE(random_state=42)\n",
    "    X_train, y_train = sampler.fit_resample(X_train, y_train)\n",
    "\n",
    "    main_model = My_model(get_models())\n",
    "    pred, T_pred = main_model.fit_eval_pred(X_train, y_train, [(X_test, y_test)], X_test, test)\n",
    "\n",
    "    score = f1_score(y_test, pd.Series([[0, 1][i >= .35] for i in pred[:, 1]]))\n",
    "\n",
    "    print(f\"f1 score = {score}\")\n",
    "    tot += score\n",
    "\n",
    "    results.append(T_pred)\n",
    "\n",
    "    print(100*\"-\", \"\\n\\n\\n\")\n",
    "\n",
    "print(f\"Average log loss = {tot / ns}\")"
   ]
  },
  {
   "cell_type": "code",
   "execution_count": null,
   "metadata": {
    "colab": {
     "base_uri": "https://localhost:8080/",
     "height": 677
    },
    "id": "EGhvzk9NZgan",
    "outputId": "aa1e4ec7-6ab5-47ad-d431-d946b8b41f4f"
   },
   "outputs": [],
   "source": [
    "0.7207142105978677\n",
    "pd.DataFrame({\n",
    "    \"feature\":X.columns,\n",
    "    \"values\" : main_model.models[0].feature_importances_,\n",
    "}).sort_values(\"values\", ascending=False)[:20]\n"
   ]
  },
  {
   "cell_type": "markdown",
   "metadata": {
    "id": "4R_WA5C5D-2U"
   },
   "source": [
    "<a name = \"Predictions\"></a>\n",
    "## 10. Test set predictions"
   ]
  },
  {
   "cell_type": "code",
   "execution_count": null,
   "metadata": {
    "colab": {
     "base_uri": "https://localhost:8080/"
    },
    "id": "XY3ij2bOPIi1",
    "outputId": "963adca1-08a9-457a-fe16-4c99585afd34"
   },
   "outputs": [],
   "source": [
    "test_pred = pd.Series([[0, 1][i >= .35] for i in np.mean(results, axis=0)[:, 1]])\n",
    "test_pred.value_counts()"
   ]
  },
  {
   "cell_type": "markdown",
   "metadata": {
    "id": "gQK6hJQHJD5a"
   },
   "source": [
    "<a name = \"Submission\"></a>\n",
    "## 11. Creating a submission file"
   ]
  },
  {
   "cell_type": "code",
   "execution_count": null,
   "metadata": {
    "colab": {
     "base_uri": "https://localhost:8080/",
     "height": 206
    },
    "id": "VGaH2ZZLrknb",
    "outputId": "db3cc6fa-6a24-4ff5-f91b-e4b5614bb627"
   },
   "outputs": [],
   "source": [
    "sub_file = pd.DataFrame({'Sample_ID': Test.Sample_ID, 'Label': test_pred})\n",
    "sub_file.to_csv('/content/submission1.csv', index = False)\n",
    "sub_file.head()"
   ]
  }
 ],
 "metadata": {
  "colab": {
   "collapsed_sections": [],
   "include_colab_link": true,
   "machine_shape": "hm",
   "provenance": []
  },
  "kernelspec": {
   "display_name": "Python 3 (ipykernel)",
   "language": "python",
   "name": "python3"
  },
  "language_info": {
   "codemirror_mode": {
    "name": "ipython",
    "version": 3
   },
   "file_extension": ".py",
   "mimetype": "text/x-python",
   "name": "python",
   "nbconvert_exporter": "python",
   "pygments_lexer": "ipython3",
   "version": "3.11.3"
  },
  "vscode": {
   "interpreter": {
    "hash": "cca8ba6e424ea098e03391f9473d43e52ce39ba0653d5333abec2813b5a5e14d"
   }
  }
 },
 "nbformat": 4,
 "nbformat_minor": 1
}
