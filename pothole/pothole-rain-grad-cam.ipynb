{
 "cells": [
  {
   "cell_type": "code",
   "execution_count": null,
   "metadata": {
    "_cell_guid": "b1076dfc-b9ad-4769-8c92-a6c4dae69d19",
    "_uuid": "8f2839f25d086af736a60e9eeb907d3b93b6e0e5",
    "execution": {
     "iopub.execute_input": "2024-03-30T10:15:40.940252Z",
     "iopub.status.busy": "2024-03-30T10:15:40.939969Z",
     "iopub.status.idle": "2024-03-30T10:15:42.124527Z",
     "shell.execute_reply": "2024-03-30T10:15:42.123524Z",
     "shell.execute_reply.started": "2024-03-30T10:15:40.940225Z"
    }
   },
   "outputs": [],
   "source": [
    "import os\n",
    "import numpy as np\n",
    "import pandas as pd\n",
    "from sklearn.model_selection import train_test_split\n",
    "import matplotlib.pylab as plt\n",
    "import tensorflow as tf"
   ]
  },
  {
   "cell_type": "code",
   "execution_count": null,
   "metadata": {
    "execution": {
     "iopub.execute_input": "2024-03-30T10:16:30.340225Z",
     "iopub.status.busy": "2024-03-30T10:16:30.339277Z",
     "iopub.status.idle": "2024-03-30T10:16:30.359747Z",
     "shell.execute_reply": "2024-03-30T10:16:30.358912Z",
     "shell.execute_reply.started": "2024-03-30T10:16:30.340189Z"
    }
   },
   "outputs": [],
   "source": [
    "train = pd.read_csv('/kaggle/input/pothole-rainflip-aml-final/new data/train_ids_rainflip_labels.csv')"
   ]
  },
  {
   "cell_type": "code",
   "execution_count": null,
   "metadata": {
    "execution": {
     "iopub.execute_input": "2024-03-30T10:16:32.520325Z",
     "iopub.status.busy": "2024-03-30T10:16:32.519970Z",
     "iopub.status.idle": "2024-03-30T10:16:32.527722Z",
     "shell.execute_reply": "2024-03-30T10:16:32.526705Z",
     "shell.execute_reply.started": "2024-03-30T10:16:32.520298Z"
    }
   },
   "outputs": [],
   "source": [
    "train.shape"
   ]
  },
  {
   "cell_type": "code",
   "execution_count": null,
   "metadata": {
    "execution": {
     "iopub.execute_input": "2024-03-30T10:16:34.446700Z",
     "iopub.status.busy": "2024-03-30T10:16:34.446122Z",
     "iopub.status.idle": "2024-03-30T10:16:35.109879Z",
     "shell.execute_reply": "2024-03-30T10:16:35.108797Z",
     "shell.execute_reply.started": "2024-03-30T10:16:34.446658Z"
    }
   },
   "outputs": [],
   "source": [
    "# use sklearn train_test_split to ensure stratified split\n",
    "X_train, X_test, y_train, y_test = train_test_split(train['Image_ID'].values,\n",
    "                                                    train['Label'].values,\n",
    "                                                    test_size=0.15,\n",
    "                                                    shuffle=True,\n",
    "                                                    random_state=42,\n",
    "                                                    stratify=train['Label'].values)"
   ]
  },
  {
   "cell_type": "code",
   "execution_count": null,
   "metadata": {
    "execution": {
     "iopub.execute_input": "2024-03-30T10:16:37.043387Z",
     "iopub.status.busy": "2024-03-30T10:16:37.042917Z",
     "iopub.status.idle": "2024-03-30T10:16:37.062204Z",
     "shell.execute_reply": "2024-03-30T10:16:37.061318Z",
     "shell.execute_reply.started": "2024-03-30T10:16:37.043357Z"
    }
   },
   "outputs": [],
   "source": [
    "# to build tf train set and test set\n",
    "# the csv's are handy to calculate the loss of each instance\n",
    "train_df = pd.DataFrame({'Image_ID': X_train, 'Label': y_train})\n",
    "test_df = pd.DataFrame({'Image_ID': X_test, 'Label': y_test})\n",
    "train_df.to_csv('new_train_id_labels.csv', index=False)\n",
    "test_df.to_csv('test_id_labels.csv', index=False)"
   ]
  },
  {
   "cell_type": "code",
   "execution_count": null,
   "metadata": {
    "execution": {
     "iopub.execute_input": "2024-03-30T10:16:39.528507Z",
     "iopub.status.busy": "2024-03-30T10:16:39.528122Z",
     "iopub.status.idle": "2024-03-30T10:16:39.535781Z",
     "shell.execute_reply": "2024-03-30T10:16:39.534823Z",
     "shell.execute_reply.started": "2024-03-30T10:16:39.528455Z"
    }
   },
   "outputs": [],
   "source": [
    "IMG_HEIGHT = 224\n",
    "IMG_WIDTH = 224\n",
    "NUM_CHANNELS = 3"
   ]
  },
  {
   "cell_type": "code",
   "execution_count": null,
   "metadata": {
    "execution": {
     "iopub.execute_input": "2024-03-30T10:16:41.540030Z",
     "iopub.status.busy": "2024-03-30T10:16:41.539687Z",
     "iopub.status.idle": "2024-03-30T10:16:54.814814Z",
     "shell.execute_reply": "2024-03-30T10:16:54.813829Z",
     "shell.execute_reply.started": "2024-03-30T10:16:41.540003Z"
    }
   },
   "outputs": [],
   "source": [
    "def read_and_decode(filename, reshape_dims):\n",
    "    # read the file.\n",
    "    img = tf.io.read_file(filename)\n",
    "    # convert the compressed string to a 3D tensor (uint8)\n",
    "    img = tf.image.decode_jpeg(img, channels=3)\n",
    "    # convert 3D uint8 in the range of [0,255] to floats in the [0,1] range.\n",
    "    #   img = tf.image.convert_image_dtype(img, tf.float32)\n",
    "    # resize the image\n",
    "    return tf.image.resize(img, reshape_dims)"
   ]
  },
  {
   "cell_type": "code",
   "execution_count": null,
   "metadata": {
    "execution": {
     "iopub.execute_input": "2024-03-30T10:19:37.538432Z",
     "iopub.status.busy": "2024-03-30T10:19:37.537732Z",
     "iopub.status.idle": "2024-03-30T10:19:37.544737Z",
     "shell.execute_reply": "2024-03-30T10:19:37.543608Z",
     "shell.execute_reply.started": "2024-03-30T10:19:37.538379Z"
    }
   },
   "outputs": [],
   "source": [
    "# decode function to read csv to build tf datasets\n",
    "def decode_csv(csv_row):\n",
    "    record_defaults = [\"path\", int()]\n",
    "    filename, label = tf.io.decode_csv(csv_row, record_defaults)\n",
    "    filename = '/kaggle/input/pothole-rainflip-aml-final/new data/all_data/all_data/'+ filename +'.JPG'\n",
    "    img = read_and_decode(filename, [IMG_HEIGHT, IMG_WIDTH])\n",
    "    # label = tf.math.equal(CLASS_NAMES, label_string)\n",
    "    return img, label"
   ]
  },
  {
   "cell_type": "code",
   "execution_count": null,
   "metadata": {
    "execution": {
     "iopub.execute_input": "2024-03-30T10:19:39.919120Z",
     "iopub.status.busy": "2024-03-30T10:19:39.918771Z",
     "iopub.status.idle": "2024-03-30T10:19:40.915482Z",
     "shell.execute_reply": "2024-03-30T10:19:40.914647Z",
     "shell.execute_reply.started": "2024-03-30T10:19:39.919093Z"
    }
   },
   "outputs": [],
   "source": [
    "# build tf datasets\n",
    "dataset = (tf.data.TextLineDataset('/kaggle/working/new_train_id_labels.csv').skip(1).  # skip header\n",
    "map(decode_csv)) # train set\n",
    "test_dataset = (tf.data.TextLineDataset('/kaggle/working/test_id_labels.csv').skip(1).  # skip header\n",
    "map(decode_csv)).batch(8) # test set"
   ]
  },
  {
   "cell_type": "code",
   "execution_count": null,
   "metadata": {
    "execution": {
     "iopub.execute_input": "2024-03-30T10:19:43.410114Z",
     "iopub.status.busy": "2024-03-30T10:19:43.409761Z",
     "iopub.status.idle": "2024-03-30T10:19:43.512063Z",
     "shell.execute_reply": "2024-03-30T10:19:43.511100Z",
     "shell.execute_reply.started": "2024-03-30T10:19:43.410085Z"
    }
   },
   "outputs": [],
   "source": [
    "train_size = int(0.8 * train_df.shape[0])\n",
    "# val_size = int(0.2 * train_df.shape[0])\n",
    "\n",
    "dataset = dataset.shuffle(buffer_size=train_df.shape[0])\n",
    "train_dataset = dataset.take(train_size).batch(8)\n",
    "val_dataset = dataset.skip(train_size).batch(8)\n",
    "# preprocess the datasets: convert input format from [0,255] to the format expected by MobileNetV2\n",
    "preprocess_layer = tf.keras.layers.Lambda(lambda data: tf.keras.applications.mobilenet.preprocess_input(tf.cast(data, tf.float32)), input_shape=[*[IMG_HEIGHT, IMG_WIDTH], 3])\n",
    "\n",
    "train_dataset.map(lambda x,y: (preprocess_layer(x), y))\n",
    "train_dataset = train_dataset.prefetch(tf.data.AUTOTUNE)\n",
    "\n",
    "val_dataset.map(lambda x, y: (preprocess_layer(x),y))\n",
    "val_dataset = val_dataset.prefetch(tf.data.AUTOTUNE)\n",
    "\n",
    "test_dataset.map(lambda x, y: (preprocess_layer(x),y))\n",
    "test_dataset = test_dataset.prefetch(tf.data.AUTOTUNE)"
   ]
  },
  {
   "cell_type": "code",
   "execution_count": null,
   "metadata": {
    "execution": {
     "iopub.execute_input": "2024-03-30T10:23:50.548104Z",
     "iopub.status.busy": "2024-03-30T10:23:50.547727Z",
     "iopub.status.idle": "2024-03-30T10:23:51.989406Z",
     "shell.execute_reply": "2024-03-30T10:23:51.988579Z",
     "shell.execute_reply.started": "2024-03-30T10:23:50.548073Z"
    }
   },
   "outputs": [],
   "source": [
    "# build model\n",
    "pretrained_model = tf.keras.applications.MobileNetV2(weights='imagenet', include_top=False, input_shape=[*[IMG_HEIGHT, IMG_WIDTH], 3])\n",
    "pretrained_model.trainable= True\n",
    "\n",
    "x = tf.keras.layers.GlobalAveragePooling2D()(pretrained_model.output)\n",
    "x = tf.keras.layers.Dense(16, activation='relu', name='pothole_dense')(x)\n",
    "outputs = tf.keras.layers.Dense(1, activation='sigmoid', name='pothole_prob')(x)\n",
    "\n",
    "model = tf.keras.models.Model(pretrained_model.input,outputs)\n",
    "\n",
    "model.compile(\n",
    "    optimizer='adam',\n",
    "    loss = tf.keras.losses.BinaryCrossentropy(from_logits=False),\n",
    "    metrics=['accuracy'],\n",
    ")\n",
    "model.summary()"
   ]
  },
  {
   "cell_type": "code",
   "execution_count": null,
   "metadata": {
    "execution": {
     "iopub.execute_input": "2024-03-30T10:24:28.057029Z",
     "iopub.status.busy": "2024-03-30T10:24:28.056701Z",
     "iopub.status.idle": "2024-03-30T10:24:28.063542Z",
     "shell.execute_reply": "2024-03-30T10:24:28.062553Z",
     "shell.execute_reply.started": "2024-03-30T10:24:28.057004Z"
    }
   },
   "outputs": [],
   "source": [
    "# Custom learning rate scheduler function\n",
    "lr_start   = 1e-4\n",
    "lr_max     = 0.000015\n",
    "lr_min     = 1e-7\n",
    "lr_ramp_ep = 3\n",
    "lr_sus_ep  = 0\n",
    "lr_decay   = 0.7\n",
    "   \n",
    "def lrfn(epoch):\n",
    "    if epoch < lr_ramp_ep:\n",
    "        lr = (lr_max - lr_start) / lr_ramp_ep * epoch + lr_start            \n",
    "    elif epoch < lr_ramp_ep + lr_sus_ep:\n",
    "        lr = lr_max\n",
    "    else:\n",
    "        lr = (lr_max - lr_min) * lr_decay**(epoch - lr_ramp_ep - lr_sus_ep) + lr_min\n",
    "    return lr\n",
    "\n",
    "# using this function, create a Callback\n",
    "lr_callback = tf.keras.callbacks.LearningRateScheduler(lrfn, verbose=True)"
   ]
  },
  {
   "cell_type": "code",
   "execution_count": null,
   "metadata": {
    "execution": {
     "iopub.execute_input": "2024-03-30T10:24:31.750615Z",
     "iopub.status.busy": "2024-03-30T10:24:31.749994Z",
     "iopub.status.idle": "2024-03-30T10:29:34.693739Z",
     "shell.execute_reply": "2024-03-30T10:29:34.692846Z",
     "shell.execute_reply.started": "2024-03-30T10:24:31.750584Z"
    }
   },
   "outputs": [],
   "source": [
    "# model training\n",
    "history = model.fit(train_dataset, epochs=10,\n",
    "                    validation_data=val_dataset,\n",
    "                    callbacks=[tf.keras.callbacks.EarlyStopping(patience=3), lr_callback])"
   ]
  },
  {
   "cell_type": "code",
   "execution_count": null,
   "metadata": {
    "execution": {
     "iopub.execute_input": "2024-03-30T10:29:39.962956Z",
     "iopub.status.busy": "2024-03-30T10:29:39.962607Z",
     "iopub.status.idle": "2024-03-30T10:29:45.118955Z",
     "shell.execute_reply": "2024-03-30T10:29:45.118142Z",
     "shell.execute_reply.started": "2024-03-30T10:29:39.962928Z"
    }
   },
   "outputs": [],
   "source": [
    "# evaluate on the test set\n",
    "results = model.evaluate(test_dataset)"
   ]
  },
  {
   "cell_type": "code",
   "execution_count": null,
   "metadata": {
    "execution": {
     "iopub.execute_input": "2024-03-30T10:29:48.175213Z",
     "iopub.status.busy": "2024-03-30T10:29:48.174326Z",
     "iopub.status.idle": "2024-03-30T10:29:48.184274Z",
     "shell.execute_reply": "2024-03-30T10:29:48.183155Z",
     "shell.execute_reply.started": "2024-03-30T10:29:48.175177Z"
    }
   },
   "outputs": [],
   "source": [
    "def make_gradcam_heatmap(img_array, model, last_conv_layer_name, pred_index=None):\n",
    "    # First, we create a model that maps the input image to the activations\n",
    "    # of the last conv layer as well as the output predictions\n",
    "    grad_model = tf.keras.models.Model(\n",
    "        model.inputs, [model.get_layer(last_conv_layer_name).output, model.output]\n",
    "    )\n",
    "\n",
    "    # Then, we compute the gradient of the top predicted class for our input image\n",
    "    # with respect to the activations of the last conv layer\n",
    "    with tf.GradientTape() as tape:\n",
    "        last_conv_layer_output, preds = grad_model(img_array)\n",
    "        if pred_index is None:\n",
    "            pred_index = tf.argmax(preds[0])\n",
    "        class_channel = preds[:, pred_index]\n",
    "\n",
    "    # This is the gradient of the output neuron (top predicted or chosen)\n",
    "    # with regard to the output feature map of the last conv layer\n",
    "    grads = tape.gradient(class_channel, last_conv_layer_output)\n",
    "\n",
    "    # This is a vector where each entry is the mean intensity of the gradient\n",
    "    # over a specific feature map channel\n",
    "    pooled_grads = tf.reduce_mean(grads, axis=(0, 1, 2))\n",
    "\n",
    "    # We multiply each channel in the feature map array\n",
    "    # by \"how important this channel is\" with regard to the top predicted class\n",
    "    # then sum all the channels to obtain the heatmap class activation\n",
    "    last_conv_layer_output = last_conv_layer_output[0]\n",
    "    heatmap = last_conv_layer_output @ pooled_grads[..., tf.newaxis]\n",
    "    heatmap = tf.squeeze(heatmap)\n",
    "\n",
    "    # For visualization purpose, we will also normalize the heatmap between 0 & 1\n",
    "    heatmap = tf.maximum(heatmap, 0) / tf.math.reduce_max(heatmap)\n",
    "    return heatmap.numpy()"
   ]
  },
  {
   "cell_type": "code",
   "execution_count": null,
   "metadata": {
    "execution": {
     "iopub.execute_input": "2024-03-30T10:29:54.840462Z",
     "iopub.status.busy": "2024-03-30T10:29:54.840102Z",
     "iopub.status.idle": "2024-03-30T10:29:54.848901Z",
     "shell.execute_reply": "2024-03-30T10:29:54.847907Z",
     "shell.execute_reply.started": "2024-03-30T10:29:54.840435Z"
    }
   },
   "outputs": [],
   "source": [
    "from IPython.display import Image, display\n",
    "import matplotlib as mpl\n",
    "def save_and_display_gradcam(img_path, heatmap, cam_path=\"cam.jpg\", alpha=0.4):\n",
    "    # Load the original image\n",
    "    img = tf.keras.utils.load_img(img_path)\n",
    "    img = tf.keras.utils.img_to_array(img)\n",
    "\n",
    "    # Rescale heatmap to a range 0-255\n",
    "    heatmap = np.uint8(255 * heatmap)\n",
    "\n",
    "    # Use jet colormap to colorize heatmap\n",
    "    jet = mpl.colormaps[\"jet\"]\n",
    "\n",
    "    # Use RGB values of the colormap\n",
    "    jet_colors = jet(np.arange(256))[:, :3]\n",
    "    jet_heatmap = jet_colors[heatmap]\n",
    "\n",
    "    # Create an image with RGB colorized heatmap\n",
    "    jet_heatmap = tf.keras.utils.array_to_img(jet_heatmap)\n",
    "    jet_heatmap = jet_heatmap.resize((img.shape[1], img.shape[0]))\n",
    "    jet_heatmap = tf.keras.utils.img_to_array(jet_heatmap)\n",
    "\n",
    "    # Superimpose the heatmap on original image\n",
    "    superimposed_img = jet_heatmap * alpha + img\n",
    "    superimposed_img = tf.keras.utils.array_to_img(superimposed_img)\n",
    "\n",
    "    # Save the superimposed image\n",
    "    superimposed_img.save(cam_path)\n",
    "\n",
    "    # Display Grad CAM\n",
    "    display(Image(cam_path))"
   ]
  },
  {
   "cell_type": "code",
   "execution_count": null,
   "metadata": {
    "execution": {
     "iopub.execute_input": "2024-03-30T10:29:57.919959Z",
     "iopub.status.busy": "2024-03-30T10:29:57.919321Z",
     "iopub.status.idle": "2024-03-30T10:29:57.924249Z",
     "shell.execute_reply": "2024-03-30T10:29:57.923046Z",
     "shell.execute_reply.started": "2024-03-30T10:29:57.919926Z"
    }
   },
   "outputs": [],
   "source": [
    "last_conv_layer_name = 'Conv_1'"
   ]
  },
  {
   "cell_type": "code",
   "execution_count": null,
   "metadata": {
    "execution": {
     "iopub.execute_input": "2024-03-30T10:29:59.917376Z",
     "iopub.status.busy": "2024-03-30T10:29:59.916710Z",
     "iopub.status.idle": "2024-03-30T10:29:59.921601Z",
     "shell.execute_reply": "2024-03-30T10:29:59.920603Z",
     "shell.execute_reply.started": "2024-03-30T10:29:59.917344Z"
    }
   },
   "outputs": [],
   "source": [
    "# Remove last layer's activation function (sigmoid)\n",
    "model.layers[-1].activation = None"
   ]
  },
  {
   "cell_type": "code",
   "execution_count": null,
   "metadata": {
    "execution": {
     "iopub.execute_input": "2024-03-30T10:37:24.285854Z",
     "iopub.status.busy": "2024-03-30T10:37:24.284804Z",
     "iopub.status.idle": "2024-03-30T10:37:24.947932Z",
     "shell.execute_reply": "2024-03-30T10:37:24.946954Z",
     "shell.execute_reply.started": "2024-03-30T10:37:24.285819Z"
    }
   },
   "outputs": [],
   "source": [
    "# test the grad cam \n",
    "img_path = '/kaggle/input/pothole-rainflip-aml-final/new data/all_data/all_data/jOsYoCYLRmnFmNm.JPG'\n",
    "img = read_and_decode(img_path, [IMG_HEIGHT, IMG_WIDTH])\n",
    "doc = tf.expand_dims(img, axis=0)\n",
    "# Generate class activation heatmap\n",
    "heatmap = make_gradcam_heatmap(doc, model, last_conv_layer_name)\n",
    "\n",
    "# Display heatmap\n",
    "plt.matshow(heatmap)\n",
    "plt.show()\n",
    "save_and_display_gradcam(img_path, heatmap)"
   ]
  },
  {
   "cell_type": "code",
   "execution_count": null,
   "metadata": {
    "execution": {
     "iopub.execute_input": "2024-03-30T10:30:42.239176Z",
     "iopub.status.busy": "2024-03-30T10:30:42.238841Z",
     "iopub.status.idle": "2024-03-30T10:30:42.246673Z",
     "shell.execute_reply": "2024-03-30T10:30:42.245658Z",
     "shell.execute_reply.started": "2024-03-30T10:30:42.239151Z"
    }
   },
   "outputs": [],
   "source": [
    "def gradcam(img_path, heatmap, alpha=0.4):\n",
    "    # Load the original image\n",
    "    img = tf.keras.utils.load_img(img_path)\n",
    "    img = tf.keras.utils.img_to_array(img)\n",
    "\n",
    "    # Rescale heatmap to a range 0-255\n",
    "    heatmap = np.uint8(255 * heatmap)\n",
    "\n",
    "    # Use jet colormap to colorize heatmap\n",
    "    jet = mpl.colormaps[\"jet\"]\n",
    "\n",
    "    # Use RGB values of the colormap\n",
    "    jet_colors = jet(np.arange(256))[:, :3]\n",
    "    jet_heatmap = jet_colors[heatmap]\n",
    "\n",
    "    # Create an image with RGB colorized heatmap\n",
    "    jet_heatmap = tf.keras.utils.array_to_img(jet_heatmap)\n",
    "    jet_heatmap = jet_heatmap.resize((img.shape[1], img.shape[0]))\n",
    "    jet_heatmap = tf.keras.utils.img_to_array(jet_heatmap)\n",
    "\n",
    "    # Superimpose the heatmap on original image\n",
    "    superimposed_img = jet_heatmap * alpha + img\n",
    "    superimposed_img = tf.keras.utils.array_to_img(superimposed_img)\n",
    "    \n",
    "    return superimposed_img"
   ]
  },
  {
   "cell_type": "code",
   "execution_count": null,
   "metadata": {
    "execution": {
     "iopub.execute_input": "2024-03-30T10:37:37.171304Z",
     "iopub.status.busy": "2024-03-30T10:37:37.170571Z",
     "iopub.status.idle": "2024-03-30T10:37:37.176648Z",
     "shell.execute_reply": "2024-03-30T10:37:37.174923Z",
     "shell.execute_reply.started": "2024-03-30T10:37:37.171272Z"
    }
   },
   "outputs": [],
   "source": [
    "filenames = ['pQVbGRebTAwmTnv','shRYejQmoIcPXFW','jOsYoCYLRmnFmNm','liCaWxHAhHpFsrz','GgbTBjlZpzCTLSo','HdyRyKBWYuJPgyG','OtentfnkpKSXBOu',\n",
    "'ndJbsOThuKwfYmu','twvydkkKycsdAvn','BOrVotINGylbEGK','LOoadBMcPPPiGfA','KNjXjRYyYbABKRv','waMCvfGJarKfTJF','kOSfAJBhBylzeBu','tjEpnRouMRxTeqX']"
   ]
  },
  {
   "cell_type": "code",
   "execution_count": null,
   "metadata": {
    "execution": {
     "iopub.execute_input": "2024-03-30T10:37:39.410742Z",
     "iopub.status.busy": "2024-03-30T10:37:39.410386Z",
     "iopub.status.idle": "2024-03-30T10:37:52.978921Z",
     "shell.execute_reply": "2024-03-30T10:37:52.977188Z",
     "shell.execute_reply.started": "2024-03-30T10:37:39.410715Z"
    }
   },
   "outputs": [],
   "source": [
    "fig, axs = plt.subplots(5, 3, figsize=(32, 32), sharey=True)\n",
    "axs = axs.flatten()\n",
    "for i in range(15):\n",
    "    img_path = '/kaggle/input/pothole-rainflip-aml-final/new data/all_data/all_data/'+filenames[i]+'.JPG'\n",
    "    img = read_and_decode(img_path, [IMG_HEIGHT, IMG_WIDTH])\n",
    "    doc = tf.expand_dims(img, axis=0)\n",
    "    # Generate class activation heatmap\n",
    "    heatmap = make_gradcam_heatmap(doc, model, last_conv_layer_name)\n",
    "    img_cam = gradcam(img_path,heatmap)\n",
    "    axs[i].imshow(img_cam)\n",
    "    axs[i].set_xticks([])\n",
    "    axs[i].set_yticks([])\n",
    "    axs[i].grid(False)\n",
    "    fig.tight_layout(h_pad=5, w_pad=5)"
   ]
  },
  {
   "cell_type": "code",
   "execution_count": null,
   "metadata": {},
   "outputs": [],
   "source": []
  }
 ],
 "metadata": {
  "kaggle": {
   "accelerator": "none",
   "dataSources": [
    {
     "datasetId": 4697179,
     "sourceId": 7980752,
     "sourceType": "datasetVersion"
    }
   ],
   "dockerImageVersionId": 30665,
   "isGpuEnabled": false,
   "isInternetEnabled": true,
   "language": "python",
   "sourceType": "notebook"
  },
  "kernelspec": {
   "display_name": "Python 3 (ipykernel)",
   "language": "python",
   "name": "python3"
  },
  "language_info": {
   "codemirror_mode": {
    "name": "ipython",
    "version": 3
   },
   "file_extension": ".py",
   "mimetype": "text/x-python",
   "name": "python",
   "nbconvert_exporter": "python",
   "pygments_lexer": "ipython3",
   "version": "3.11.11"
  }
 },
 "nbformat": 4,
 "nbformat_minor": 4
}
